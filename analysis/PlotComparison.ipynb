{
 "cells": [
  {
   "cell_type": "code",
   "execution_count": 27,
   "metadata": {},
   "outputs": [],
   "source": [
    "import matplotlib.pyplot as plt\n",
    "import numpy as np\n",
    "import pandas as pd\n",
    "import seaborn as sns\n",
    "from sklearn import datasets\n",
    "import plotly.express as px\n",
    "import plotly.graph_objects as go\n",
    "from scipy.io.wavfile import read\n",
    "import os\n",
    "import torchaudio"
   ]
  },
  {
   "cell_type": "code",
   "execution_count": 28,
   "metadata": {},
   "outputs": [
    {
     "name": "stdout",
     "output_type": "stream",
     "text": [
      "4\n",
      "4\n",
      "4\n"
     ]
    }
   ],
   "source": [
    "root_folder = \"/calc/baronig/Projects/sim_results/adlif_rebuttal/compression_task/16k_compress_examples\"\n",
    "source_folder = os.path.join(root_folder, \"sources_files\")\n",
    "source_waveforms = []\n",
    "for file in sorted(os.listdir(source_folder)):\n",
    "    if file.endswith(\".wav\"):\n",
    "        source_waveform = torchaudio.load(os.path.join(source_folder, file))\n",
    "        source_waveforms.append(np.array(source_waveform[0]).squeeze())\n",
    "\n",
    "ef_waveforms = []\n",
    "ef_folder = os.path.join(root_folder, \"ef_adlif_pred\")\n",
    "for file in sorted(os.listdir(ef_folder)):\n",
    "    ef_waveforms.append(np.load(os.path.join(ef_folder, file)))\n",
    "\n",
    "se_waveforms = []\n",
    "se_folder = os.path.join(root_folder, \"se_adlif_pred\")\n",
    "for file in sorted(os.listdir(se_folder)):\n",
    "    se_waveforms.append(np.load(os.path.join(se_folder, file)))\n",
    "\n",
    "print(len(source_waveforms))\n",
    "print(len(ef_waveforms))\n",
    "print(len(se_waveforms))\n"
   ]
  },
  {
   "cell_type": "code",
   "execution_count": 33,
   "metadata": {},
   "outputs": [
    {
     "name": "stdout",
     "output_type": "stream",
     "text": [
      "0\n",
      "1\n"
     ]
    },
    {
     "data": {
      "image/png": "[encoded data removed]",
      "text/plain": [
       "<Figure size 330x80 with 1 Axes>"
      ]
     },
     "metadata": {},
     "output_type": "display_data"
    }
   ],
   "source": [
    "def plot_comparisons(source_waveform, ef_waveform, se_waveform):\n",
    "    for i, prediction_waveform in enumerate([ef_waveform, se_waveform]):\n",
    "        # print(i)\n",
    "        # fig = px.line(y=source_waveform, title=\"Source waveform\")\n",
    "        # fig.add_trace(go.Scatter(y=prediction_waveform.squeeze(), mode='lines', name='Prediction waveform'))\n",
    "        # fig.update_layout(title=\"EF\" if i == 0 else \"SE\")\n",
    "        # fig.show()\n",
    "        # fig.write_image(\"waveform.pdf\")\n",
    "        fr = 72800\n",
    "        to = 73200\n",
    "        plt.close()\n",
    "        # plot with matplotlib\n",
    "        plt.figure(figsize=(3.3, 0.8))\n",
    "        # plt.plot(source_waveform[0][fr:to])\n",
    "        plt.plot(source_waveform.squeeze()[fr:to]) #, color=get_sequential_colors()[0])\n",
    "        # plt.plot(prediction_waveform[0][fr:to])\n",
    "        plt.plot(prediction_waveform.squeeze()[fr:to])\n",
    "        # remove top and right spines\n",
    "        plt.gca().spines['top'].set_visible(False)\n",
    "        plt.gca().spines['right'].set_visible(False)\n",
    "        # add legend\n",
    "        plt.legend(['source', 'prediction'])\n",
    "        # set transparent background\n",
    "        plt.gca().patch.set_alpha(0)\n",
    "        # set tick size\n",
    "        plt.xticks(fontsize=7)\n",
    "        plt.yticks(fontsize=7)\n",
    "        # set tick font to arial\n",
    "        plt.xticks(fontname='Arial')\n",
    "        plt.yticks(fontname='Arial')\n",
    "\n",
    "        # plt.show()\n",
    "        # set fig size\n",
    "        # plt.show()\n",
    "        plt.savefig(f\"waveform_comparison{i}.svg\")\n",
    "\n",
    "\n",
    "# for waveform_id in range(len(source_waveforms)):\n",
    "# for waveform_id in range(1):\n",
    "for waveform_id in [3]:\n",
    "    source_waveform = source_waveforms[waveform_id]\n",
    "    ef_waveform = ef_waveforms[waveform_id]\n",
    "    se_waveform = se_waveforms[waveform_id]\n",
    "    plot_comparisons(source_waveform, ef_waveform, se_waveform)"
   ]
  }
 ],
 "metadata": {
  "kernelspec": {
   "display_name": "SNN",
   "language": "python",
   "name": "python3"
  },
  "language_info": {
   "codemirror_mode": {
    "name": "ipython",
    "version": 3
   },
   "file_extension": ".py",
   "mimetype": "text/x-python",
   "name": "python",
   "nbconvert_exporter": "python",
   "pygments_lexer": "ipython3",
   "version": "3.11.8"
  }
 },
 "nbformat": 4,
 "nbformat_minor": 2
}
