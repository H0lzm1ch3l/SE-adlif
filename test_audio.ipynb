{
 "cells": [
  {
   "cell_type": "code",
   "execution_count": 1,
   "metadata": {},
   "outputs": [],
   "source": [
    "%load_ext autoreload\n",
    "%autoreload 2\n",
    "from IPython.display import Audio"
   ]
  },
  {
   "cell_type": "code",
   "execution_count": 51,
   "metadata": {},
   "outputs": [],
   "source": [
    "from datasets.audio_compress import LibriTTS"
   ]
  },
  {
   "cell_type": "code",
   "execution_count": 52,
   "metadata": {},
   "outputs": [
    {
     "name": "stdout",
     "output_type": "stream",
     "text": [
      "directory already exist\n",
      "Wave files are resampled to 3000Hz\n",
      "Chunk map loaded from /home/romain/datasets/LibriTTS/debug/3000/full/1024_map.pkl\n",
      "Waves files are splited into 1024 samples length\n"
     ]
    }
   ],
   "source": [
    "data = LibriTTS('/home/romain/datasets/LibriTTS/', sampling_freq=3_000, sample_length=1024)"
   ]
  },
  {
   "cell_type": "code",
   "execution_count": 53,
   "metadata": {},
   "outputs": [],
   "source": [
    "waveform_numpy = data[0][0].numpy()"
   ]
  },
  {
   "cell_type": "code",
   "execution_count": 54,
   "metadata": {},
   "outputs": [
    {
     "data": {
      "text/plain": [
       "(1024, 1)"
      ]
     },
     "execution_count": 54,
     "metadata": {},
     "output_type": "execute_result"
    }
   ],
   "source": [
    "waveform_numpy.shape"
   ]
  },
  {
   "cell_type": "code",
   "execution_count": 56,
   "metadata": {},
   "outputs": [
    {
     "data": {
      "text/html": [
       "\n",
       "                <audio  controls=\"controls\" >\n",
       "                    <source src=\"data:audio/wav;base64,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\" type=\"audio/wav\" />\n",
       "                    Your browser does not support the audio element.\n",
       "                </audio>\n",
       "              "
      ],
      "text/plain": [
       "<IPython.lib.display.Audio object>"
      ]
     },
     "execution_count": 56,
     "metadata": {},
     "output_type": "execute_result"
    }
   ],
   "source": [
    "Audio(waveform_numpy.T, rate=3_000)"
   ]
  },
  {
   "cell_type": "code",
   "execution_count": 29,
   "metadata": {},
   "outputs": [],
   "source": [
    "import timeit\n",
    "import random\n",
    "\n",
    "# Assume `dataset` is your PyTorch Dataset\n",
    "# Set the number of samples for timing\n",
    "num_samples = 1000\n",
    "\n",
    "# Generate a list of random indices\n",
    "indices = [random.randint(0, len(data) - 1) for _ in range(num_samples)]\n",
    "\n",
    "# Time the average access time\n",
    "average_time = timeit.timeit(\n",
    "    stmt=\"data[random.choice(indices)]\",\n",
    "    setup=\"from __main__ import data, indices, random\",\n",
    "    number=num_samples\n",
    ") / num_samples"
   ]
  },
  {
   "cell_type": "code",
   "execution_count": 30,
   "metadata": {},
   "outputs": [
    {
     "data": {
      "text/plain": [
       "0.004573804591000225"
      ]
     },
     "execution_count": 30,
     "metadata": {},
     "output_type": "execute_result"
    }
   ],
   "source": [
    "average_time"
   ]
  }
 ],
 "metadata": {
  "kernelspec": {
   "display_name": "SE-adLIF",
   "language": "python",
   "name": "python3"
  },
  "language_info": {
   "codemirror_mode": {
    "name": "ipython",
    "version": 3
   },
   "file_extension": ".py",
   "mimetype": "text/x-python",
   "name": "python",
   "nbconvert_exporter": "python",
   "pygments_lexer": "ipython3",
   "version": "3.11.8"
  }
 },
 "nbformat": 4,
 "nbformat_minor": 2
}
